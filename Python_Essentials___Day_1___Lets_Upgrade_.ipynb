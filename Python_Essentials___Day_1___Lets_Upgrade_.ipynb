{
  "nbformat": 4,
  "nbformat_minor": 0,
  "metadata": {
    "colab": {
      "name": "Python Essentials | Day 1 | Lets Upgrade .ipynb",
      "provenance": []
    },
    "kernelspec": {
      "name": "python3",
      "display_name": "Python 3"
    },
    "language_info": {
      "name": "python"
    }
  },
  "cells": [
    {
      "cell_type": "code",
      "metadata": {
        "id": "AeImFsyjP33r"
      },
      "source": [
        "#Python Essentials | Day 1 | LetsUpgrade @ 27/07/2021"
      ],
      "execution_count": 1,
      "outputs": []
    },
    {
      "cell_type": "code",
      "metadata": {
        "id": "Ue_Sj73YRagm"
      },
      "source": [
        "#NAME = SEKHAR REDDY\n",
        "#EMAIL ID : sekhareddy717.niper@gmail.com\n",
        "#number = 8331995717"
      ],
      "execution_count": 2,
      "outputs": []
    },
    {
      "cell_type": "code",
      "metadata": {
        "id": "txXdJlCLRtzD"
      },
      "source": [
        "#python day 1"
      ],
      "execution_count": 3,
      "outputs": []
    },
    {
      "cell_type": "code",
      "metadata": {
        "id": "eNMH8v1LRxPo"
      },
      "source": [
        "#it is very simple\n",
        "#easily readable\n",
        "#no strict syntax\n",
        "#Dynamically typed languages"
      ],
      "execution_count": 4,
      "outputs": []
    },
    {
      "cell_type": "code",
      "metadata": {
        "colab": {
          "base_uri": "https://localhost:8080/"
        },
        "id": "QKQx_zFkSKMP",
        "outputId": "d3a92061-e272-4238-9cf7-b538b3812af4"
      },
      "source": [
        "print('hello world') #single quotes"
      ],
      "execution_count": 5,
      "outputs": [
        {
          "output_type": "stream",
          "text": [
            "hello world\n"
          ],
          "name": "stdout"
        }
      ]
    },
    {
      "cell_type": "code",
      "metadata": {
        "colab": {
          "base_uri": "https://localhost:8080/"
        },
        "id": "uW6tNuQqSPem",
        "outputId": "133a83de-ac31-4fe7-cb94-cc581d4d812f"
      },
      "source": [
        "print(\"hello world\") #double qoutes"
      ],
      "execution_count": 6,
      "outputs": [
        {
          "output_type": "stream",
          "text": [
            "hello world\n"
          ],
          "name": "stdout"
        }
      ]
    },
    {
      "cell_type": "code",
      "metadata": {
        "colab": {
          "base_uri": "https://localhost:8080/"
        },
        "id": "zXyFtL7kSSmy",
        "outputId": "c8378412-b777-4ee6-8e90-4b898c385251"
      },
      "source": [
        "print('''hello world''') #triple quotes"
      ],
      "execution_count": 13,
      "outputs": [
        {
          "output_type": "stream",
          "text": [
            "hello world\n"
          ],
          "name": "stdout"
        }
      ]
    },
    {
      "cell_type": "code",
      "metadata": {
        "colab": {
          "base_uri": "https://localhost:8080/"
        },
        "id": "3B7yc-XVTDXK",
        "outputId": "5d43015d-e58f-450e-cd5b-dc766c47b1f8"
      },
      "source": [
        "print('hello')\n",
        "print('coders')"
      ],
      "execution_count": 14,
      "outputs": [
        {
          "output_type": "stream",
          "text": [
            "hello\n",
            "coders\n"
          ],
          "name": "stdout"
        }
      ]
    },
    {
      "cell_type": "code",
      "metadata": {
        "colab": {
          "base_uri": "https://localhost:8080/"
        },
        "id": "enxkF8nVTKhA",
        "outputId": "9dfc9cb0-b2d8-467f-ccdb-57e273e2b9bb"
      },
      "source": [
        "print('hello',end='')\n",
        "print('coders')"
      ],
      "execution_count": 15,
      "outputs": [
        {
          "output_type": "stream",
          "text": [
            "hellocoders\n"
          ],
          "name": "stdout"
        }
      ]
    },
    {
      "cell_type": "code",
      "metadata": {
        "colab": {
          "base_uri": "https://localhost:8080/"
        },
        "id": "xFtaznxHTcZ9",
        "outputId": "84ba2116-9ea6-474d-8023-52f957807a05"
      },
      "source": [
        "print('hello',end=' ')\n",
        "print('coders')"
      ],
      "execution_count": 16,
      "outputs": [
        {
          "output_type": "stream",
          "text": [
            "hello coders\n"
          ],
          "name": "stdout"
        }
      ]
    },
    {
      "cell_type": "code",
      "metadata": {
        "colab": {
          "base_uri": "https://localhost:8080/"
        },
        "id": "yCml9GS-TinZ",
        "outputId": "329b2c60-5aaa-40dd-c321-6799c83a742a"
      },
      "source": [
        "print('hello','coders')"
      ],
      "execution_count": 17,
      "outputs": [
        {
          "output_type": "stream",
          "text": [
            "hello coders\n"
          ],
          "name": "stdout"
        }
      ]
    },
    {
      "cell_type": "code",
      "metadata": {
        "id": "-sPsptSvTz8a"
      },
      "source": [
        "a = 50"
      ],
      "execution_count": 18,
      "outputs": []
    },
    {
      "cell_type": "code",
      "metadata": {
        "colab": {
          "base_uri": "https://localhost:8080/"
        },
        "id": "vE8C-GCoUKKT",
        "outputId": "1078b197-8c73-400a-92b7-ca8ca0743edb"
      },
      "source": [
        "a"
      ],
      "execution_count": 19,
      "outputs": [
        {
          "output_type": "execute_result",
          "data": {
            "text/plain": [
              "50"
            ]
          },
          "metadata": {
            "tags": []
          },
          "execution_count": 19
        }
      ]
    },
    {
      "cell_type": "code",
      "metadata": {
        "id": "3Ut4vN0bUK_4"
      },
      "source": [
        "a = 50;"
      ],
      "execution_count": 20,
      "outputs": []
    },
    {
      "cell_type": "code",
      "metadata": {
        "colab": {
          "base_uri": "https://localhost:8080/"
        },
        "id": "ovq5lANOUMW-",
        "outputId": "11952226-2aeb-4bc2-f494-2f0340036c09"
      },
      "source": [
        "a"
      ],
      "execution_count": 21,
      "outputs": [
        {
          "output_type": "execute_result",
          "data": {
            "text/plain": [
              "50"
            ]
          },
          "metadata": {
            "tags": []
          },
          "execution_count": 21
        }
      ]
    },
    {
      "cell_type": "code",
      "metadata": {
        "colab": {
          "base_uri": "https://localhost:8080/"
        },
        "id": "jw8lWrt1UNJ7",
        "outputId": "8380db80-5124-4740-cc31-df10650132a6"
      },
      "source": [
        "print(a)"
      ],
      "execution_count": 22,
      "outputs": [
        {
          "output_type": "stream",
          "text": [
            "50\n"
          ],
          "name": "stdout"
        }
      ]
    },
    {
      "cell_type": "code",
      "metadata": {
        "colab": {
          "base_uri": "https://localhost:8080/"
        },
        "id": "EYA_0yQgUPG3",
        "outputId": "87d9b484-c379-46da-d4fd-1ae9e89c74ce"
      },
      "source": [
        "print(type(a))"
      ],
      "execution_count": 23,
      "outputs": [
        {
          "output_type": "stream",
          "text": [
            "<class 'int'>\n"
          ],
          "name": "stdout"
        }
      ]
    },
    {
      "cell_type": "code",
      "metadata": {
        "colab": {
          "base_uri": "https://localhost:8080/"
        },
        "id": "vs6o9DCBUSft",
        "outputId": "cc5a0b3b-c066-43b4-8163-095e03b242d1"
      },
      "source": [
        "b= 'hello'\n",
        "print(type(b))"
      ],
      "execution_count": 24,
      "outputs": [
        {
          "output_type": "stream",
          "text": [
            "<class 'str'>\n"
          ],
          "name": "stdout"
        }
      ]
    },
    {
      "cell_type": "code",
      "metadata": {
        "id": "qpLAMoLAUYK4"
      },
      "source": [
        "x = 10.25"
      ],
      "execution_count": 25,
      "outputs": []
    },
    {
      "cell_type": "code",
      "metadata": {
        "colab": {
          "base_uri": "https://localhost:8080/"
        },
        "id": "pyF6zhzPUkpU",
        "outputId": "9ddfbb46-2f87-41fa-a741-666c52d93092"
      },
      "source": [
        "print(type(x))"
      ],
      "execution_count": 26,
      "outputs": [
        {
          "output_type": "stream",
          "text": [
            "<class 'float'>\n"
          ],
          "name": "stdout"
        }
      ]
    },
    {
      "cell_type": "code",
      "metadata": {
        "colab": {
          "base_uri": "https://localhost:8080/"
        },
        "id": "tHPa3FKdVAlQ",
        "outputId": "85bcc8da-f563-4981-8ba2-8979b90ee0ca"
      },
      "source": [
        "type(x)"
      ],
      "execution_count": 27,
      "outputs": [
        {
          "output_type": "execute_result",
          "data": {
            "text/plain": [
              "float"
            ]
          },
          "metadata": {
            "tags": []
          },
          "execution_count": 27
        }
      ]
    },
    {
      "cell_type": "code",
      "metadata": {
        "id": "MtovKgc5VCXW"
      },
      "source": [
        "c = 10\n",
        "d = 20\n",
        "e = 30"
      ],
      "execution_count": 28,
      "outputs": []
    },
    {
      "cell_type": "code",
      "metadata": {
        "colab": {
          "base_uri": "https://localhost:8080/"
        },
        "id": "8xEvHWCgVMIU",
        "outputId": "dc86beb3-d170-4782-d112-d574f962d6c0"
      },
      "source": [
        "c , d , e"
      ],
      "execution_count": 29,
      "outputs": [
        {
          "output_type": "execute_result",
          "data": {
            "text/plain": [
              "(10, 20, 30)"
            ]
          },
          "metadata": {
            "tags": []
          },
          "execution_count": 29
        }
      ]
    },
    {
      "cell_type": "code",
      "metadata": {
        "id": "tW-8oZxTVQpk"
      },
      "source": [
        "c  , d  , e = 10 ,20 , 30"
      ],
      "execution_count": 30,
      "outputs": []
    },
    {
      "cell_type": "code",
      "metadata": {
        "colab": {
          "base_uri": "https://localhost:8080/"
        },
        "id": "XgIcMre7VZ5j",
        "outputId": "d4637384-9fee-41e5-fdc9-51570acb9556"
      },
      "source": [
        "c , d , e"
      ],
      "execution_count": 31,
      "outputs": [
        {
          "output_type": "execute_result",
          "data": {
            "text/plain": [
              "(10, 20, 30)"
            ]
          },
          "metadata": {
            "tags": []
          },
          "execution_count": 31
        }
      ]
    },
    {
      "cell_type": "code",
      "metadata": {
        "id": "GOZHIsllVbx6"
      },
      "source": [
        "a = b  = c = 20"
      ],
      "execution_count": 32,
      "outputs": []
    },
    {
      "cell_type": "code",
      "metadata": {
        "colab": {
          "base_uri": "https://localhost:8080/"
        },
        "id": "xhoQHqv3Vgg2",
        "outputId": "6528a5d4-0a77-4544-a435-1b669ed66650"
      },
      "source": [
        "print(a,b,c)"
      ],
      "execution_count": 33,
      "outputs": [
        {
          "output_type": "stream",
          "text": [
            "20 20 20\n"
          ],
          "name": "stdout"
        }
      ]
    },
    {
      "cell_type": "code",
      "metadata": {
        "colab": {
          "base_uri": "https://localhost:8080/"
        },
        "id": "m8JTZBOyVjVQ",
        "outputId": "1323aaab-1a00-46d5-a6d9-6eccb0a6e55a"
      },
      "source": [
        "print(id(a)) #address\n",
        "print(id(b))\n",
        "print(id(c))"
      ],
      "execution_count": 35,
      "outputs": [
        {
          "output_type": "stream",
          "text": [
            "93919183264864\n",
            "93919183264864\n",
            "93919183264864\n"
          ],
          "name": "stdout"
        }
      ]
    },
    {
      "cell_type": "code",
      "metadata": {
        "id": "FqxKMdwBVquT"
      },
      "source": [
        "b = 30"
      ],
      "execution_count": 36,
      "outputs": []
    },
    {
      "cell_type": "code",
      "metadata": {
        "colab": {
          "base_uri": "https://localhost:8080/"
        },
        "id": "AtsQByjlZ7xC",
        "outputId": "16b107b1-717a-4572-b064-a154ddf9178a"
      },
      "source": [
        "print(a,b,c) #immutability"
      ],
      "execution_count": 38,
      "outputs": [
        {
          "output_type": "stream",
          "text": [
            "20 30 20\n"
          ],
          "name": "stdout"
        }
      ]
    },
    {
      "cell_type": "code",
      "metadata": {
        "colab": {
          "base_uri": "https://localhost:8080/"
        },
        "id": "a8F46dzOZ_XG",
        "outputId": "29ed4112-9158-4ae7-ab20-1f1ce313bd0f"
      },
      "source": [
        "print(id(a))\n",
        "print(id(b))\n",
        "print(id(c))"
      ],
      "execution_count": 39,
      "outputs": [
        {
          "output_type": "stream",
          "text": [
            "93919183264864\n",
            "93919183265184\n",
            "93919183264864\n"
          ],
          "name": "stdout"
        }
      ]
    },
    {
      "cell_type": "code",
      "metadata": {
        "colab": {
          "base_uri": "https://localhost:8080/"
        },
        "id": "dZfIRffaaKBS",
        "outputId": "60406a4f-3c3a-4151-f6f9-73aa458e2b6c"
      },
      "source": [
        "print(type(id(a)))"
      ],
      "execution_count": 40,
      "outputs": [
        {
          "output_type": "stream",
          "text": [
            "<class 'int'>\n"
          ],
          "name": "stdout"
        }
      ]
    },
    {
      "cell_type": "code",
      "metadata": {
        "colab": {
          "base_uri": "https://localhost:8080/"
        },
        "id": "ryBV8JpIbIjy",
        "outputId": "5162ac5b-174a-43ae-bf47-c2e64aefb7fa"
      },
      "source": [
        "type(id(a))"
      ],
      "execution_count": 41,
      "outputs": [
        {
          "output_type": "execute_result",
          "data": {
            "text/plain": [
              "int"
            ]
          },
          "metadata": {
            "tags": []
          },
          "execution_count": 41
        }
      ]
    },
    {
      "cell_type": "code",
      "metadata": {
        "colab": {
          "base_uri": "https://localhost:8080/"
        },
        "id": "9L7WbWkibLv3",
        "outputId": "f8485cd8-cc3a-4c6f-af61-0eedd5568e06"
      },
      "source": [
        "s = input('enter first value : ')\n",
        "r = input('enter second value :')"
      ],
      "execution_count": 44,
      "outputs": [
        {
          "output_type": "stream",
          "text": [
            "enter first value : 100\n",
            "enter second value :200\n"
          ],
          "name": "stdout"
        }
      ]
    },
    {
      "cell_type": "code",
      "metadata": {
        "colab": {
          "base_uri": "https://localhost:8080/"
        },
        "id": "c2V0gIFIbZ_E",
        "outputId": "37774e3d-9ef4-421a-a19a-0a582a3eda30"
      },
      "source": [
        "print(s+r)"
      ],
      "execution_count": 45,
      "outputs": [
        {
          "output_type": "stream",
          "text": [
            "100200\n"
          ],
          "name": "stdout"
        }
      ]
    },
    {
      "cell_type": "code",
      "metadata": {
        "colab": {
          "base_uri": "https://localhost:8080/"
        },
        "id": "5O5Y-msHboqS",
        "outputId": "02651956-5eca-4eca-bf51-1c6d1815fde1"
      },
      "source": [
        "type(s)"
      ],
      "execution_count": 46,
      "outputs": [
        {
          "output_type": "execute_result",
          "data": {
            "text/plain": [
              "str"
            ]
          },
          "metadata": {
            "tags": []
          },
          "execution_count": 46
        }
      ]
    },
    {
      "cell_type": "code",
      "metadata": {
        "colab": {
          "base_uri": "https://localhost:8080/"
        },
        "id": "Eb4XjeK3bwan",
        "outputId": "7ee93652-471f-42dd-f7c2-3790258dfd42"
      },
      "source": [
        "print(type(r))"
      ],
      "execution_count": 47,
      "outputs": [
        {
          "output_type": "stream",
          "text": [
            "<class 'str'>\n"
          ],
          "name": "stdout"
        }
      ]
    },
    {
      "cell_type": "code",
      "metadata": {
        "colab": {
          "base_uri": "https://localhost:8080/"
        },
        "id": "cMhCKYQwbzce",
        "outputId": "1363cf52-cfa5-422e-9374-86007f029aab"
      },
      "source": [
        "s = int(input('enter first value : '))\n",
        "r = int(input('enter second value :'))"
      ],
      "execution_count": 48,
      "outputs": [
        {
          "output_type": "stream",
          "text": [
            "enter first value : 100\n",
            "enter second value :200\n"
          ],
          "name": "stdout"
        }
      ]
    },
    {
      "cell_type": "code",
      "metadata": {
        "colab": {
          "base_uri": "https://localhost:8080/"
        },
        "id": "8pq5bEGCcBFr",
        "outputId": "3eeed741-674f-4240-a302-c570f87d38b2"
      },
      "source": [
        "print(s+r)"
      ],
      "execution_count": 49,
      "outputs": [
        {
          "output_type": "stream",
          "text": [
            "300\n"
          ],
          "name": "stdout"
        }
      ]
    },
    {
      "cell_type": "code",
      "metadata": {
        "colab": {
          "base_uri": "https://localhost:8080/"
        },
        "id": "vNEEf-9QcLjN",
        "outputId": "c208519d-c404-4083-ad8c-970222e374ef"
      },
      "source": [
        "type(s)"
      ],
      "execution_count": 50,
      "outputs": [
        {
          "output_type": "execute_result",
          "data": {
            "text/plain": [
              "int"
            ]
          },
          "metadata": {
            "tags": []
          },
          "execution_count": 50
        }
      ]
    },
    {
      "cell_type": "code",
      "metadata": {
        "colab": {
          "base_uri": "https://localhost:8080/"
        },
        "id": "kJqT6VvOcNTx",
        "outputId": "897eb8e8-1f21-4b8a-e9ef-649545b83932"
      },
      "source": [
        "print(type(r))"
      ],
      "execution_count": 51,
      "outputs": [
        {
          "output_type": "stream",
          "text": [
            "<class 'int'>\n"
          ],
          "name": "stdout"
        }
      ]
    },
    {
      "cell_type": "code",
      "metadata": {
        "colab": {
          "base_uri": "https://localhost:8080/"
        },
        "id": "eR99N3vNcPNx",
        "outputId": "3b02f5d6-cebc-45c4-cd32-cff94e45e45d"
      },
      "source": [
        "t = input('enter the values : ')"
      ],
      "execution_count": 53,
      "outputs": [
        {
          "output_type": "stream",
          "text": [
            "enter the values : 10 20 30 40 50\n"
          ],
          "name": "stdout"
        }
      ]
    },
    {
      "cell_type": "code",
      "metadata": {
        "colab": {
          "base_uri": "https://localhost:8080/"
        },
        "id": "CBeUvKg8cboF",
        "outputId": "3eed5cef-8310-4d0d-abca-b43705a4ffef"
      },
      "source": [
        "print(t)"
      ],
      "execution_count": 54,
      "outputs": [
        {
          "output_type": "stream",
          "text": [
            "10 20 30 40 50\n"
          ],
          "name": "stdout"
        }
      ]
    },
    {
      "cell_type": "code",
      "metadata": {
        "colab": {
          "base_uri": "https://localhost:8080/"
        },
        "id": "QKK5Z8v6ciKY",
        "outputId": "5f7e6d86-5aa0-4314-d074-04b11b9ce384"
      },
      "source": [
        "type(t)"
      ],
      "execution_count": 57,
      "outputs": [
        {
          "output_type": "execute_result",
          "data": {
            "text/plain": [
              "str"
            ]
          },
          "metadata": {
            "tags": []
          },
          "execution_count": 57
        }
      ]
    },
    {
      "cell_type": "code",
      "metadata": {
        "colab": {
          "base_uri": "https://localhost:8080/"
        },
        "id": "zU7xOI2uds8f",
        "outputId": "35caba10-47a7-443c-b5fa-a6f1109088ee"
      },
      "source": [
        "x = input('enter values :')\n",
        "print(type(x))\n",
        "val=x.split()\n",
        "print(val)"
      ],
      "execution_count": 59,
      "outputs": [
        {
          "output_type": "stream",
          "text": [
            "enter values :10 20 30 40 50\n",
            "<class 'str'>\n",
            "['10', '20', '30', '40', '50']\n"
          ],
          "name": "stdout"
        }
      ]
    },
    {
      "cell_type": "code",
      "metadata": {
        "colab": {
          "base_uri": "https://localhost:8080/"
        },
        "id": "06M4VBSgd4HP",
        "outputId": "924d3d53-5884-419c-c177-bd3b6061ebe9"
      },
      "source": [
        "print(type(val))"
      ],
      "execution_count": 60,
      "outputs": [
        {
          "output_type": "stream",
          "text": [
            "<class 'list'>\n"
          ],
          "name": "stdout"
        }
      ]
    },
    {
      "cell_type": "code",
      "metadata": {
        "colab": {
          "base_uri": "https://localhost:8080/"
        },
        "id": "CEK5vi9ieAQy",
        "outputId": "a38bc01e-af3e-4e5c-b78d-70285b733665"
      },
      "source": [
        "type(val)"
      ],
      "execution_count": 61,
      "outputs": [
        {
          "output_type": "execute_result",
          "data": {
            "text/plain": [
              "list"
            ]
          },
          "metadata": {
            "tags": []
          },
          "execution_count": 61
        }
      ]
    },
    {
      "cell_type": "code",
      "metadata": {
        "colab": {
          "base_uri": "https://localhost:8080/"
        },
        "id": "WlHbQ6tzeCwl",
        "outputId": "25217488-0296-46ad-b3e0-9e1f56f4d754"
      },
      "source": [
        "x = input('enter values :')\n",
        "print(type(x))\n",
        "val=[int(i) for i in x.split()]\n",
        "print(val)"
      ],
      "execution_count": 62,
      "outputs": [
        {
          "output_type": "stream",
          "text": [
            "enter values :10 20 30 \n",
            "<class 'str'>\n",
            "[10, 20, 30]\n"
          ],
          "name": "stdout"
        }
      ]
    },
    {
      "cell_type": "code",
      "metadata": {
        "colab": {
          "base_uri": "https://localhost:8080/"
        },
        "id": "Bpy4RP8Eel2W",
        "outputId": "f5e34810-7fe0-4094-b6e3-484dd75dc67e"
      },
      "source": [
        "type(val)"
      ],
      "execution_count": 63,
      "outputs": [
        {
          "output_type": "execute_result",
          "data": {
            "text/plain": [
              "list"
            ]
          },
          "metadata": {
            "tags": []
          },
          "execution_count": 63
        }
      ]
    },
    {
      "cell_type": "code",
      "metadata": {
        "id": "EEDoS0mbeqmo"
      },
      "source": [
        "list1=[\"hello\",'hi',20,0.125,\"TRUE\"]"
      ],
      "execution_count": 65,
      "outputs": []
    },
    {
      "cell_type": "code",
      "metadata": {
        "colab": {
          "base_uri": "https://localhost:8080/"
        },
        "id": "AI6cSJ1fe-Hr",
        "outputId": "34899eb2-6b38-4179-cfdb-cf5fa7f68b04"
      },
      "source": [
        "list1"
      ],
      "execution_count": 66,
      "outputs": [
        {
          "output_type": "execute_result",
          "data": {
            "text/plain": [
              "['hello', 'hi', 20, 0.125, 'TRUE']"
            ]
          },
          "metadata": {
            "tags": []
          },
          "execution_count": 66
        }
      ]
    },
    {
      "cell_type": "code",
      "metadata": {
        "colab": {
          "base_uri": "https://localhost:8080/"
        },
        "id": "DYFnQgTufChQ",
        "outputId": "78bad336-73fb-4237-af79-159de642b9cf"
      },
      "source": [
        "print(type(list1))"
      ],
      "execution_count": 70,
      "outputs": [
        {
          "output_type": "stream",
          "text": [
            "<class 'list'>\n"
          ],
          "name": "stdout"
        }
      ]
    },
    {
      "cell_type": "code",
      "metadata": {
        "id": "a__t8AnVfevG"
      },
      "source": [
        "list2=[1,45,85,20,63,12]"
      ],
      "execution_count": 71,
      "outputs": []
    },
    {
      "cell_type": "code",
      "metadata": {
        "colab": {
          "base_uri": "https://localhost:8080/"
        },
        "id": "0uUtf-vhfkcz",
        "outputId": "feee0e7c-2378-4855-cfa9-3ad571a73d1d"
      },
      "source": [
        "list2"
      ],
      "execution_count": 72,
      "outputs": [
        {
          "output_type": "execute_result",
          "data": {
            "text/plain": [
              "[1, 45, 85, 20, 63, 12]"
            ]
          },
          "metadata": {
            "tags": []
          },
          "execution_count": 72
        }
      ]
    },
    {
      "cell_type": "code",
      "metadata": {
        "colab": {
          "base_uri": "https://localhost:8080/"
        },
        "id": "Pkv58JbAfnSv",
        "outputId": "57c3a412-20c1-4fe1-854d-0df85abd97cd"
      },
      "source": [
        "print(list2) #unsorted list "
      ],
      "execution_count": 73,
      "outputs": [
        {
          "output_type": "stream",
          "text": [
            "[1, 45, 85, 20, 63, 12]\n"
          ],
          "name": "stdout"
        }
      ]
    },
    {
      "cell_type": "code",
      "metadata": {
        "id": "y9SOPoqufovy"
      },
      "source": [
        "list2.sort()"
      ],
      "execution_count": 74,
      "outputs": []
    },
    {
      "cell_type": "code",
      "metadata": {
        "colab": {
          "base_uri": "https://localhost:8080/"
        },
        "id": "PVQbGOyyf0c_",
        "outputId": "2284c1ec-cb04-4841-aee2-5fdaa94d636b"
      },
      "source": [
        "print(list2) #sorted list "
      ],
      "execution_count": 76,
      "outputs": [
        {
          "output_type": "stream",
          "text": [
            "[1, 12, 20, 45, 63, 85]\n"
          ],
          "name": "stdout"
        }
      ]
    },
    {
      "cell_type": "code",
      "metadata": {
        "colab": {
          "base_uri": "https://localhost:8080/"
        },
        "id": "dyF0i2Ptf4Wi",
        "outputId": "597ebf80-c53b-4147-e470-61d49bb07dab"
      },
      "source": [
        "list2.reverse() #reverse the list\n",
        "print(list2)"
      ],
      "execution_count": 79,
      "outputs": [
        {
          "output_type": "stream",
          "text": [
            "[1, 12, 20, 45, 63, 85]\n"
          ],
          "name": "stdout"
        }
      ]
    },
    {
      "cell_type": "code",
      "metadata": {
        "id": "YkqyqEILgclg"
      },
      "source": [
        "list2=[1,45,85,20,63,12]"
      ],
      "execution_count": 80,
      "outputs": []
    },
    {
      "cell_type": "code",
      "metadata": {
        "colab": {
          "base_uri": "https://localhost:8080/"
        },
        "id": "78t1cB2vggos",
        "outputId": "9cbb7e86-b736-40e4-9ce1-dbdfdb84d049"
      },
      "source": [
        "print(list2[0:4]) #slicing"
      ],
      "execution_count": 82,
      "outputs": [
        {
          "output_type": "stream",
          "text": [
            "[1, 45, 85, 20]\n"
          ],
          "name": "stdout"
        }
      ]
    },
    {
      "cell_type": "code",
      "metadata": {
        "colab": {
          "base_uri": "https://localhost:8080/"
        },
        "id": "HBtj25MbglfJ",
        "outputId": "c94f8334-3ee6-492a-e5d9-7d85400041f5"
      },
      "source": [
        "li = [int(i) for i in input(\"enter values :\").split()]"
      ],
      "execution_count": 83,
      "outputs": [
        {
          "output_type": "stream",
          "text": [
            "enter values :10 20 30 40\n"
          ],
          "name": "stdout"
        }
      ]
    },
    {
      "cell_type": "code",
      "metadata": {
        "colab": {
          "base_uri": "https://localhost:8080/"
        },
        "id": "liPIic4Zhk2_",
        "outputId": "ff519b86-a261-4a2f-bb8c-8df57db84dc3"
      },
      "source": [
        "print(li)"
      ],
      "execution_count": 84,
      "outputs": [
        {
          "output_type": "stream",
          "text": [
            "[10, 20, 30, 40]\n"
          ],
          "name": "stdout"
        }
      ]
    },
    {
      "cell_type": "code",
      "metadata": {
        "colab": {
          "base_uri": "https://localhost:8080/"
        },
        "id": "bDoEXw_xh0ik",
        "outputId": "3684a6b7-d203-46d6-8070-5c063bc66e93"
      },
      "source": [
        "type(li)"
      ],
      "execution_count": 85,
      "outputs": [
        {
          "output_type": "execute_result",
          "data": {
            "text/plain": [
              "list"
            ]
          },
          "metadata": {
            "tags": []
          },
          "execution_count": 85
        }
      ]
    },
    {
      "cell_type": "code",
      "metadata": {
        "id": "QRY98NlHh3qQ"
      },
      "source": [
        "li.sort() #sorting in asceding order"
      ],
      "execution_count": 86,
      "outputs": []
    },
    {
      "cell_type": "markdown",
      "metadata": {
        "id": "QuQkb6JDjmAs"
      },
      "source": [
        "**ASSIGNMENT 1_DAY 1_27/07/21**# New Section"
      ]
    },
    {
      "cell_type": "code",
      "metadata": {
        "colab": {
          "base_uri": "https://localhost:8080/"
        },
        "id": "GHOdnFBqh8Wy",
        "outputId": "3762561e-ae1b-4b07-d0e5-6b20baaa3fcb"
      },
      "source": [
        "li = [int(i) for i in input(\"enter values :\").split()]\n",
        "print(li) "
      ],
      "execution_count": 101,
      "outputs": [
        {
          "output_type": "stream",
          "text": [
            "enter values :10 20 30 40\n",
            "[10, 20, 30, 40]\n"
          ],
          "name": "stdout"
        }
      ]
    },
    {
      "cell_type": "code",
      "metadata": {
        "id": "9uzIw3hnh-lC"
      },
      "source": [
        "li.sort(reverse=True) #sorting in desceding order ASSIGNMENT 1 DAY 1- 27/07/2021"
      ],
      "execution_count": 103,
      "outputs": []
    },
    {
      "cell_type": "code",
      "metadata": {
        "colab": {
          "base_uri": "https://localhost:8080/"
        },
        "id": "b_q64mViiFFL",
        "outputId": "d0df3a2b-9b50-40ee-a3ca-7c8db6dee770"
      },
      "source": [
        "li"
      ],
      "execution_count": 104,
      "outputs": [
        {
          "output_type": "execute_result",
          "data": {
            "text/plain": [
              "[40, 30, 20, 10]"
            ]
          },
          "metadata": {
            "tags": []
          },
          "execution_count": 104
        }
      ]
    },
    {
      "cell_type": "code",
      "metadata": {
        "colab": {
          "base_uri": "https://localhost:8080/"
        },
        "id": "NxhRP9TeiO2p",
        "outputId": "8685d19c-c06b-44f0-c874-970c855546f9"
      },
      "source": [
        "print(li)"
      ],
      "execution_count": 105,
      "outputs": [
        {
          "output_type": "stream",
          "text": [
            "[40, 30, 20, 10]\n"
          ],
          "name": "stdout"
        }
      ]
    },
    {
      "cell_type": "code",
      "metadata": {
        "id": "9LxqiZVKiQoR"
      },
      "source": [
        "x = 'h e l l o' #spliting a string\n",
        "y=x.split()"
      ],
      "execution_count": 94,
      "outputs": []
    },
    {
      "cell_type": "code",
      "metadata": {
        "colab": {
          "base_uri": "https://localhost:8080/"
        },
        "id": "jpBEd6SzijNw",
        "outputId": "6ec6c6a9-488d-4965-cb49-aade7eba80a5"
      },
      "source": [
        "print(y)"
      ],
      "execution_count": 95,
      "outputs": [
        {
          "output_type": "stream",
          "text": [
            "['h', 'e', 'l', 'l', 'o']\n"
          ],
          "name": "stdout"
        }
      ]
    }
  ]
}